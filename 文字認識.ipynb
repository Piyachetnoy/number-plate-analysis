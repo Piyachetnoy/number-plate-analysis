{
  "nbformat": 4,
  "nbformat_minor": 0,
  "metadata": {
    "colab": {
      "provenance": [],
      "authorship_tag": "ABX9TyOVbNxS/sBtEiYTOg+RM4BV",
      "include_colab_link": true
    },
    "kernelspec": {
      "name": "python3",
      "display_name": "Python 3"
    },
    "language_info": {
      "name": "python"
    }
  },
  "cells": [
    {
      "cell_type": "markdown",
      "metadata": {
        "id": "view-in-github",
        "colab_type": "text"
      },
      "source": [
        "<a href=\"https://colab.research.google.com/github/nalgo-intern/team-b-2024-summer-08-26/blob/analy/%E6%96%87%E5%AD%97%E8%AA%8D%E8%AD%98.ipynb\" target=\"_parent\"><img src=\"https://colab.research.google.com/assets/colab-badge.svg\" alt=\"Open In Colab\"/></a>"
      ]
    },
    {
      "cell_type": "code",
      "source": [
        "import easyocr\n",
        "import cv2\n",
        "from PIL import Image,ImageDraw\n",
        "\n",
        "reader = easyocr.Reader(['ja'])\n",
        "img_path = '/image/rsample.png'\n",
        "\n",
        "image = cv2.imread(img_path)\n",
        "bounds = reader.readtext(img_path)\n",
        "for idx in range(len(bounds)):\n",
        "    res = bounds[idx][0]\n",
        "    print(res)\n",
        "\n",
        "\n",
        "# 現在の解像度を確認\n",
        "height, width = image.shape[:2]\n",
        "print(f'元の解像度: {width} x {height}')\n",
        "\n",
        "# 解像度を300dpiに調整\n",
        "tmp=500 / height\n",
        "new_height = int(height * tmp)  # 96dpiから300dpiへ\n",
        "new_width = int(width * tmp)\n",
        "resized_image = cv2.resize(image, (new_width, new_height))\n",
        "\n",
        "nimg=cv2.bitwise_not(resized_image)\n",
        "\n",
        "gimg=cv2.cvtColor(nimg,cv2.COLOR_BGR2GRAY)\n",
        "\n",
        "ret2, bimg = cv2.threshold(gimg, 0, 255, cv2.THRESH_OTSU)\n",
        "\n",
        "dimg = cv2.bilateralFilter(bimg, 25, 75, 75)\n",
        "\n",
        "result2=reader.readtext(dimg)\n",
        "print(result2)"
      ],
      "metadata": {
        "colab": {
          "base_uri": "https://localhost:8080/"
        },
        "id": "S5aQ9UfSNTX6",
        "outputId": "c42f71e0-58de-45da-b35e-1f14baba5d72"
      },
      "execution_count": 68,
      "outputs": [
        {
          "output_type": "stream",
          "name": "stderr",
          "text": [
            "WARNING:easyocr.easyocr:Neither CUDA nor MPS are available - defaulting to CPU. Note: This module is much faster with a GPU.\n"
          ]
        },
        {
          "output_type": "stream",
          "name": "stdout",
          "text": [
            "[[21, 5], [75, 5], [75, 19], [21, 19]]\n",
            "[[18, 16], [90, 16], [90, 46], [18, 46]]\n",
            "元の解像度: 92 x 47\n",
            "[([[217, 47], [768, 47], [768, 188], [217, 188]], ':二小あ580', 0.004778849151869515), ([[0, 173], [960, 173], [960, 466], [0, 466]], '1570-77三', 0.1467711014427625)]\n"
          ]
        }
      ]
    }
  ]
}